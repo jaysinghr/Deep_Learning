{
 "cells": [
  {
   "cell_type": "markdown",
   "metadata": {
    "colab_type": "text",
    "id": "y871RZtRhCEH"
   },
   "source": [
    "# <font color='red'>Implement Optimizers to Update Weights</font>"
   ]
  },
  {
   "cell_type": "markdown",
   "metadata": {
    "colab_type": "text",
    "id": "LqePYi-4mFvK"
   },
   "source": [
    "**There will be some functions that start with the word \"grader\" ex: grader_sigmoid(), grader_forwardprop(), grader_backprop() etc, these are the test functions.<br><br>Every Grader function has to return True.**"
   ]
  },
  {
   "cell_type": "markdown",
   "metadata": {
    "colab_type": "text",
    "id": "0huUQ0byiI0I"
   },
   "source": [
    "## <font color='red'>Loading data </font>"
   ]
  },
  {
   "cell_type": "code",
   "execution_count": 1,
   "metadata": {
    "colab": {
     "base_uri": "https://localhost:8080/",
     "height": 50
    },
    "colab_type": "code",
    "id": "1hSje5CBgcUb",
    "outputId": "66535fa5-f8a2-4792-bc62-7842c93480f7"
   },
   "outputs": [
    {
     "name": "stdout",
     "output_type": "stream",
     "text": [
      "(506, 6)\n",
      "(506, 5) (506,)\n"
     ]
    }
   ],
   "source": [
    "import pickle\n",
    "import numpy as np\n",
    "from tqdm import tqdm\n",
    "import math\n",
    "import matplotlib.pyplot as plt\n",
    "\n",
    "with open('data.pkl', 'rb') as f:\n",
    "    data = pickle.load(f)\n",
    "print(data.shape)\n",
    "\n",
    "X = data[:, :5]\n",
    "y = data[:, -1]\n",
    "print(X.shape, y.shape)"
   ]
  },
  {
   "cell_type": "markdown",
   "metadata": {
    "colab_type": "text",
    "id": "5JL-0soQistC"
   },
   "source": [
    "# <font color='red'>Computational graph</font>"
   ]
  },
  {
   "cell_type": "markdown",
   "metadata": {
    "colab_type": "text",
    "id": "nREnTTJ3i0Vd"
   },
   "source": [
    "<img src='https://i.imgur.com/seSGbNS.png'>"
   ]
  },
  {
   "cell_type": "markdown",
   "metadata": {
    "colab_type": "text",
    "id": "2jecTyVRlh-6"
   },
   "source": [
    "*\n",
    "    <font color='green'><b>Part 1</b></font></b>\n",
    "    <img src='https://i.imgur.com/0xUaxy6.png'><br><br>\n",
    "    <font color='green'><b>Part 2</b></font></b><br>\n",
    "    <img src='https://i.imgur.com/J29pAJL.png'><br><br>\n",
    "    <font color='green'><b>Part 3</b></font></b>\n",
    "    <img src='https://i.imgur.com/vMyCsd9.png'>"
   ]
  },
  {
   "cell_type": "markdown",
   "metadata": {
    "colab_type": "text",
    "id": "0ufbFBFfhgL0"
   },
   "source": [
    "# <font color='red'> Optimizers </font>"
   ]
  },
  {
   "cell_type": "markdown",
   "metadata": {
    "colab_type": "text",
    "id": "7zt05soYh1RM"
   },
   "source": [
    "* We will be implementing 3 type of optimizers(methods to update weight)\n",
    "* Using the same computational graph mentioned above\n",
    "* Initilze the 9 weights from normal distribution with mean=0 and std=0.01"
   ]
  },
  {
   "cell_type": "markdown",
   "metadata": {
    "colab_type": "text",
    "id": "CAyi7aSAicbr"
   },
   "source": [
    "**Check below video and <a href='https://cs231n.github.io/neural-networks-3/'>this</a> blog**"
   ]
  },
  {
   "cell_type": "code",
   "execution_count": 2,
   "metadata": {
    "colab": {
     "base_uri": "https://localhost:8080/",
     "height": 521
    },
    "colab_type": "code",
    "id": "ZogcxiegkQpz",
    "outputId": "9b4e0235-e638-4f20-d9c1-ac3ca4fb3ce8"
   },
   "outputs": [
    {
     "data": {
      "image/jpeg": "[encoded data removed]",
      "text/html": [
       "\n",
       "        <iframe\n",
       "            width=\"950\"\n",
       "            height=\"500\"\n",
       "            src=\"https://www.youtube.com/embed/gYpoJMlgyXA\"\n",
       "            frameborder=\"0\"\n",
       "            allowfullscreen\n",
       "            \n",
       "        ></iframe>\n",
       "        "
      ],
      "text/plain": [
       "<IPython.lib.display.YouTubeVideo at 0x260ef383eb0>"
      ]
     },
     "execution_count": 2,
     "metadata": {},
     "output_type": "execute_result"
    }
   ],
   "source": [
    "from IPython.display import YouTubeVideo\n",
    "YouTubeVideo('gYpoJMlgyXA',width=\"950\",height=\"500\")"
   ]
  },
  {
   "cell_type": "markdown",
   "metadata": {
    "colab_type": "text",
    "id": "jmefh7ktjbaR"
   },
   "source": [
    "<font color='blue'><b>Algorithm</b>"
   ]
  },
  {
   "cell_type": "markdown",
   "metadata": {
    "colab_type": "text",
    "id": "nAc4NudkjdNa"
   },
   "source": [
    "<pre>\n",
    "    for each epoch(1-100):\n",
    "        for each data point in data:\n",
    "            using the functions forward_propagation() and backword_propagation() compute the gradients of weights\n",
    "            update the weights with help of gradients  ex: w1 = w1-learning_rate*dw1\n",
    "</pre>"
   ]
  },
  {
   "cell_type": "markdown",
   "metadata": {
    "colab_type": "text",
    "id": "_fdmPNqtjm3X"
   },
   "source": [
    "## <font color='red'> Implement below Weights Update Strategies</b>"
   ]
  },
  {
   "cell_type": "markdown",
   "metadata": {
    "colab_type": "text",
    "id": "Ll9-CRsLjx_D"
   },
   "source": [
    "\n",
    "*  <b>Strategy 1</b>: We will be implementing the above algorithm with <b>Vanilla update</b> of weights<br><br>\n",
    "*  <b>Strategy 2</b>: We will be implementing the above algorithm with <b>Momentum update</b> of weights<br><br>\n",
    "*  <b>Strategy 3</b>: We will be implementing the above algorithm with <b>Adam update</b> of weights\n"
   ]
  },
  {
   "cell_type": "markdown",
   "metadata": {
    "colab_type": "text",
    "id": "CBaPzHP63grG"
   },
   "source": [
    "# <font color='red'> 1 </font>"
   ]
  },
  {
   "cell_type": "markdown",
   "metadata": {
    "colab_type": "text",
    "id": "QfmV3FUgSrBo"
   },
   "source": [
    "## <font color='blue'>Forward propagation </font>"
   ]
  },
  {
   "cell_type": "code",
   "execution_count": 28,
   "metadata": {
    "colab": {},
    "colab_type": "code",
    "id": "5_pBivcY30qf"
   },
   "outputs": [],
   "source": [
    "def sigmoid(z):\n",
    "    '''In this function, we will compute the sigmoid(z)'''\n",
    "    # we can use this function in forward and backward propagation\n",
    "    return 1 / (1 + np.exp(-z))\n",
    "\n",
    "def tanh(z):\n",
    "    '''In this function, we will compute the tanh(z)'''\n",
    "    return (np.exp(z) - np.exp(-z)) / (np.exp(z) + np.exp(-z))\n",
    "    \n",
    "def forward_propagation(x, y, w):\n",
    "        '''In this function, we will compute the forward propagation '''\n",
    "        # X: input data point, 5-d data points\n",
    "        # y: output varible\n",
    "        # W: weight array, its of length 9, W[0] corresponds to w1 in graph, W[1] corresponds to w2 in graph,..., W[8] corresponds to w9 in graph.  \n",
    "        \n",
    "        # Return the following variables\n",
    "        # exp = part1 (compute the forward propagation until exp and then store the values in exp)\n",
    "        # tanh = part2 (compute the forward propagation until tanh and then store the values in tanh)\n",
    "        # sig = part3 (compute the forward propagation until sigmoid and then store the values in sig)\n",
    "        # now compute remaining values from computional graph and get y'\n",
    "        # compute the value of L=(y-y')^2\n",
    "        # compute derivative of L  w.r.to Y' and store it in dl\n",
    "        # Create a dictionary to store all the intermediate values\n",
    "        # store L, exp,tanh,sig variables\n",
    "        \n",
    "        #print(\"%\"*100, w)\n",
    "        # exp\n",
    "        mul1 = w[0] * x[0]; mul2 = w[1] * x[1]\n",
    "        add1 = mul1 + mul2; add2 = mul1 + mul2\n",
    "        mul3 = add1 * add2\n",
    "        add3 = mul3 + w[5]\n",
    "        exp_ = np.exp(add3)\n",
    "        \n",
    "        # tanh\n",
    "        tanh_ = tanh(exp_ + w[6])\n",
    "        \n",
    "        # sigmoid\n",
    "        sin_ = np.sin(w[2] * x[2])\n",
    "        add4 = (w[3]*x[3]) + (w[4]*x[4])\n",
    "        mul4 = sin_ * add4\n",
    "        sig_ = sigmoid(mul4 + w[7])\n",
    "        \n",
    "        y_hat = tanh_ + (sig_ * w[8])\n",
    "        l = (y-y_hat)**2\n",
    "    \n",
    "        dl = 2*(y-y_hat)*-1\n",
    "        \n",
    "        d = {\"dl\":dl, \"loss\":l, \"exp\":exp_, \"tanh\":tanh_, \"sigmoid\":sig_, \"sin\":sin_, \n",
    "             \"mul1\":mul1, \"mul2\":mul2, \"add1\":add1, \"add2\":add2, \"add4\":add4}\n",
    "        #print(\"%\"*100, d)\n",
    "        return d"
   ]
  },
  {
   "cell_type": "markdown",
   "metadata": {
    "colab_type": "text",
    "id": "z-z1rGKqCHNN"
   },
   "source": [
    "<font color='cyan'>Grader function - 1</font>"
   ]
  },
  {
   "cell_type": "code",
   "execution_count": 29,
   "metadata": {
    "colab": {},
    "colab_type": "code",
    "id": "6ZxFF00zBmx1"
   },
   "outputs": [
    {
     "data": {
      "text/plain": [
       "True"
      ]
     },
     "execution_count": 29,
     "metadata": {},
     "output_type": "execute_result"
    }
   ],
   "source": [
    "def grader_sigmoid(z):\n",
    "  val=sigmoid(z)\n",
    "  assert(val==0.8807970779778823)\n",
    "  return True\n",
    "grader_sigmoid(2)"
   ]
  },
  {
   "cell_type": "markdown",
   "metadata": {
    "colab_type": "text",
    "id": "KgAUXq_aChey"
   },
   "source": [
    "<font color='cyan'>Grader function - 2 </font>"
   ]
  },
  {
   "cell_type": "code",
   "execution_count": 30,
   "metadata": {
    "colab": {},
    "colab_type": "code",
    "id": "3uzsUqcjCorN"
   },
   "outputs": [
    {
     "data": {
      "text/plain": [
       "True"
      ]
     },
     "execution_count": 30,
     "metadata": {},
     "output_type": "execute_result"
    }
   ],
   "source": [
    "def grader_forwardprop(data):\n",
    "    dl = (np.round(data['dl'],4)==-1.9285)\n",
    "    loss = (np.round(data['loss'],4)==0.9298)\n",
    "    part1 = (np.round(data['exp'],4)==1.1273)\n",
    "    part2 = (np.round(data['tanh'],4)==0.8418)\n",
    "    part3 = (np.round(data['sigmoid'],4)==0.5279)\n",
    "    assert(dl and loss and part1 and part2 and part3)\n",
    "    return True\n",
    "w = np.ones(9)*0.1\n",
    "d1 = forward_propagation(X[0],y[0],w)\n",
    "#print(d1)\n",
    "grader_forwardprop(d1)"
   ]
  },
  {
   "cell_type": "markdown",
   "metadata": {
    "colab_type": "text",
    "id": "obOaAqj3Sxvb"
   },
   "source": [
    "## <font color='blue'>Backward propagation</font>"
   ]
  },
  {
   "cell_type": "code",
   "execution_count": 31,
   "metadata": {
    "colab": {},
    "colab_type": "code",
    "id": "dS49ykcOGhIv"
   },
   "outputs": [],
   "source": [
    "def backward_propagation(x,w,dic):\n",
    "    '''In this function, we will compute the backward propagation '''\n",
    "    # L: the loss we calculated for the current point\n",
    "    # dictionary: the outputs of the forward_propagation() function\n",
    "    \n",
    "    # compute the gradients of each weight [w1, w2, w3, ..., w9]\n",
    "    # use dict type to store the required variables \n",
    "    # dw1 = # in dw1 compute derivative of L w.r.to w1\n",
    "    # dw2 = # in dw2 compute derivative of L w.r.to w2\n",
    "    # dw3 = # in dw3 compute derivative of L w.r.to w3\n",
    "    # dw4 = # in dw4 compute derivative of L w.r.to w4\n",
    "    # dw5 = # in dw5 compute derivative of L w.r.to w5\n",
    "    # dw6 = # in dw6 compute derivative of L w.r.to w6\n",
    "    # dw7 = # in dw7 compute derivative of L w.r.to w7\n",
    "    # dw8 = # in dw8 compute derivative of L w.r.to w8\n",
    "    # dw9 = # in dw9 compute derivative of L w.r.to w9\n",
    "\n",
    "    # return dW, dW is a dictionary with gradients of all the weights\n",
    "    #print(\"^\"*100, w)\n",
    "    \n",
    "    dW = dict()\n",
    "    dW['dw9'] = (dic['dl'] * dic['sigmoid'])\n",
    "    dW['dw8'] = ((dic['sigmoid'] * (1-dic['sigmoid']))) * (w[8] * dic['dl'])\n",
    "    dW['dw7'] = (1 - (dic['tanh']**2)) * dic['dl']\n",
    "    dW['dw6'] = (dic['exp'] * dW['dw7'])\n",
    "    dW['dw5'] = (dW['dw8'] * dic['sin']) * x[4]\n",
    "    dW['dw4'] = (dW['dw8'] * dic['sin']) * x[3]\n",
    "    dW['dw3'] = (math.cos(dic['sin']) * (dW['dw8'] * dic['add4'])) * x[2]\n",
    "    dW['dw2'] = ((dW['dw6'] * dic['add1']) * x[1]) + ((dW['dw6'] * dic['add2']) * x[1])\n",
    "    dW['dw1'] = ((dW['dw6'] * dic['add1']) * x[0]) + ((dW['dw6'] * dic['add2']) * x[0])\n",
    "    \n",
    "    #print(dW)\n",
    "    return dW    \n",
    "    "
   ]
  },
  {
   "cell_type": "markdown",
   "metadata": {
    "colab_type": "text",
    "id": "2NpZWAVlS4jb"
   },
   "source": [
    "<font color='cyan'>Grader function - 3 </font>"
   ]
  },
  {
   "cell_type": "code",
   "execution_count": 32,
   "metadata": {
    "colab": {},
    "colab_type": "code",
    "id": "1a8Kll2xGhMJ"
   },
   "outputs": [
    {
     "data": {
      "text/plain": [
       "True"
      ]
     },
     "execution_count": 32,
     "metadata": {},
     "output_type": "execute_result"
    }
   ],
   "source": [
    "def grader_backprop(data):\n",
    "    dw1=(np.round(data['dw1'],4)==-0.2297)\n",
    "    dw2=(np.round(data['dw2'],4)==-0.0214)\n",
    "    dw3=(np.round(data['dw3'],4)==-0.0056)\n",
    "    dw4=(np.round(data['dw4'],4)==-0.0047)\n",
    "    dw5=(np.round(data['dw5'],4)==-0.001)\n",
    "    dw6=(np.round(data['dw6'],4)==-0.6335)\n",
    "    dw7=(np.round(data['dw7'],4)==-0.5619)\n",
    "    dw8=(np.round(data['dw8'],4)==-0.0481)\n",
    "    dw9=(np.round(data['dw9'],4)==-1.0181)\n",
    "    assert(dw1 and dw2 and dw3 and dw4 and dw5 and dw6 and dw7 and dw8 and dw9)\n",
    "    return True \n",
    "w=np.ones(9)*0.1\n",
    "d1=forward_propagation(X[0],y[0],w)\n",
    "#print(d1)\n",
    "d1=backward_propagation(X[0],w,d1)\n",
    "#print(d1)\n",
    "grader_backprop(d1)"
   ]
  },
  {
   "cell_type": "markdown",
   "metadata": {
    "colab_type": "text",
    "id": "1rfHHXZwgwo6"
   },
   "source": [
    "## <font color='blue'> Implement gradient checking</font>"
   ]
  },
  {
   "cell_type": "code",
   "execution_count": 33,
   "metadata": {},
   "outputs": [],
   "source": [
    "# Ref: https://cs231n.github.io/neural-networks-3/\n",
    "def gradient_checking(x, y, w_, e):\n",
    "    d_ = forward_propagation(x, y, w_)\n",
    "    gr = backward_propagation(x, w_, d_)\n",
    "    gr = list(gr.values())\n",
    "    \n",
    "    approx_gradients = []\n",
    "    for wi in range(len(w_)):\n",
    "        wi_plus = np.copy(w_)\n",
    "        wi_plus[wi] = wi_plus[wi]+e\n",
    "        dwi_plus = forward_propagation(x, y, wi_plus)\n",
    "        \n",
    "        wi_minus = np.copy(w_)\n",
    "        wi_minus[wi] = wi_minus[wi]-e\n",
    "        dwi_minus = forward_propagation(x, y, wi_minus)\n",
    "        \n",
    "        approx_gr = (dwi_plus['loss'] - dwi_minus['loss']) / (2*e)\n",
    "        approx_gradients.append(approx_gr)\n",
    "        \n",
    "    '''\n",
    "    num = np.linalg.norm(np.array(gr) - np.array(approx_gradients))\n",
    "    den = max(np.linalg.norm(gr) , np.linalg.norm(approx_gradients))\n",
    "    diff = num / den\n",
    "    '''\n",
    "    diff_ = []\n",
    "    for g, a in zip(gr[::-1], approx_gradients):\n",
    "        diff = (g-a) / (g+a)\n",
    "        diff_.append(diff)\n",
    "        \n",
    "        if diff < e:\n",
    "            print(\"The gradient is correct\", g, a, diff)\n",
    "        else:\n",
    "            print(\"The gradient is wrong\", g, a, diff)\n",
    "    \n",
    "    return diff_\n",
    "    "
   ]
  },
  {
   "cell_type": "code",
   "execution_count": 34,
   "metadata": {},
   "outputs": [],
   "source": [
    "W = np.random.normal(0, 0.1, 9)\n",
    "e = 0.0001"
   ]
  },
  {
   "cell_type": "code",
   "execution_count": 35,
   "metadata": {},
   "outputs": [
    {
     "name": "stdout",
     "output_type": "stream",
     "text": [
      "The gradient is correct -0.06336092378476448 -0.06336092270520233 8.519147865283226e-09\n",
      "The gradient is correct -0.005904266505548416 -0.005904266507927858 -2.0150192464427818e-10\n",
      "The gradient is correct -0.00014417929313551882 -0.00014417921967435632 2.5475635098979514e-07\n",
      "The gradient is correct -0.00027710529750597367 -0.0002771052975969468 -1.6414902254223805e-10\n",
      "The gradient is correct -5.995037866765921e-05 -5.995037688499849e-05 1.4867802190861331e-08\n",
      "The gradient is correct -0.6116783187078052 -0.611678317519182 9.716080860376015e-10\n",
      "The gradient is correct -0.5954040817581366 -0.5954040854327936 -3.0858512843069586e-09\n",
      "The gradient is correct -0.009938208904186941 -0.009938208898052636 3.086222543042609e-10\n",
      "The gradient is correct -0.9830689576952825 -0.9830689576972862 -1.0191200216203591e-12\n"
     ]
    },
    {
     "data": {
      "text/plain": [
       "[8.519147865283226e-09,\n",
       " -2.0150192464427818e-10,\n",
       " 2.5475635098979514e-07,\n",
       " -1.6414902254223805e-10,\n",
       " 1.4867802190861331e-08,\n",
       " 9.716080860376015e-10,\n",
       " -3.0858512843069586e-09,\n",
       " 3.086222543042609e-10,\n",
       " -1.0191200216203591e-12]"
      ]
     },
     "execution_count": 35,
     "metadata": {},
     "output_type": "execute_result"
    }
   ],
   "source": [
    "gradient_checking(X[0], y[0], W, e)"
   ]
  },
  {
   "cell_type": "markdown",
   "metadata": {
    "colab_type": "text",
    "id": "MhwDSe99kJ32"
   },
   "source": [
    "# <font color='red'>The Optimizers"
   ]
  },
  {
   "cell_type": "code",
   "execution_count": 70,
   "metadata": {},
   "outputs": [],
   "source": [
    "W = np.random.normal(0, 0.1, 9)\n",
    "epochs = list(range(50))\n",
    "learning_rate = 0.00001"
   ]
  },
  {
   "cell_type": "markdown",
   "metadata": {
    "colab_type": "text",
    "id": "jJzI-vnPk1dB"
   },
   "source": [
    "### <font color='blue'>1 Algorithm with Vanilla update of weights</font>"
   ]
  },
  {
   "cell_type": "code",
   "execution_count": 71,
   "metadata": {},
   "outputs": [],
   "source": [
    "def fit_vanilla_update(x, y, w_, epochs, learning_rate):\n",
    "    mean_loss = []\n",
    "    for _ in epochs:\n",
    "        loss = []\n",
    "        for xi, yi in zip(x, y):\n",
    "            df = forward_propagation(xi, yi, w_)\n",
    "            loss.append(df['loss'])\n",
    "            dw = backward_propagation(xi, w_, df)\n",
    "            \n",
    "            dw = list(dw.values())\n",
    "            for i, wi in enumerate(dw[::-1]):\n",
    "                w_[i] += - learning_rate * wi\n",
    "        mean_loss.append(np.mean(loss))\n",
    "    return mean_loss"
   ]
  },
  {
   "cell_type": "code",
   "execution_count": 72,
   "metadata": {},
   "outputs": [],
   "source": [
    "vanilla_loss = fit_vanilla_update(X, y, W.copy(), epochs, learning_rate)"
   ]
  },
  {
   "cell_type": "markdown",
   "metadata": {
    "colab_type": "text",
    "id": "UlTLXrvmlR26"
   },
   "source": [
    "<font color='blue'>Plot between epochs and loss</font>"
   ]
  },
  {
   "cell_type": "code",
   "execution_count": 73,
   "metadata": {
    "colab": {},
    "colab_type": "code",
    "id": "CjTCVUIoGhTo"
   },
   "outputs": [
    {
     "data": {
      "image/png": "[encoded data removed]",
      "text/plain": [
       "<Figure size 640x480 with 1 Axes>"
      ]
     },
     "metadata": {},
     "output_type": "display_data"
    }
   ],
   "source": [
    "# plotting the loss  \n",
    "plt.plot(epochs, vanilla_loss) \n",
    "plt.xlabel('Epoch') \n",
    "plt.ylabel('Loss') \n",
    "plt.title('Loss with Vanilla update')  \n",
    "plt.show() "
   ]
  },
  {
   "cell_type": "markdown",
   "metadata": {
    "colab_type": "text",
    "id": "cv_hZFWalS2z"
   },
   "source": [
    "### <font color='blue'>2 Algorithm with Momentum update of weights</font>"
   ]
  },
  {
   "cell_type": "code",
   "execution_count": 74,
   "metadata": {
    "colab": {},
    "colab_type": "code",
    "id": "uucCdyQrGhZt"
   },
   "outputs": [],
   "source": [
    "def fit_momentum_update(x, y, w_, epochs, learning_rate, mu=0.5, v=0):\n",
    "    mean_loss = []\n",
    "    for _ in epochs:\n",
    "        loss = []\n",
    "        for xi, yi in zip(x, y):\n",
    "            df = forward_propagation(xi, yi, w_)\n",
    "            loss.append(df['loss'])\n",
    "            dw = backward_propagation(xi, w_, df)\n",
    "            \n",
    "            dw = list(dw.values())\n",
    "            for i, wi in enumerate(dw[::-1]):\n",
    "                # Momentum update\n",
    "                v = mu * v - learning_rate * wi # integrate velocity\n",
    "                w_[i] += v # integrate position\n",
    "        mean_loss.append(np.mean(loss))\n",
    "    return mean_loss"
   ]
  },
  {
   "cell_type": "code",
   "execution_count": 75,
   "metadata": {},
   "outputs": [],
   "source": [
    "momentum_loss = fit_momentum_update(X, y, W.copy(), epochs, learning_rate)"
   ]
  },
  {
   "cell_type": "markdown",
   "metadata": {
    "colab_type": "text",
    "id": "Ow20azfKlVhn"
   },
   "source": [
    "<font color='blue'> Plot between epochs and loss</font>"
   ]
  },
  {
   "cell_type": "code",
   "execution_count": 76,
   "metadata": {
    "colab": {},
    "colab_type": "code",
    "id": "u-m90Sq_Ghce"
   },
   "outputs": [
    {
     "data": {
      "image/png": "[encoded data removed]",
      "text/plain": [
       "<Figure size 640x480 with 1 Axes>"
      ]
     },
     "metadata": {},
     "output_type": "display_data"
    }
   ],
   "source": [
    "# plotting the loss  \n",
    "plt.plot(epochs, momentum_loss) \n",
    "plt.xlabel('Epoch') \n",
    "plt.ylabel('Loss') \n",
    "plt.title('Loss with Momentum update')  \n",
    "plt.show() "
   ]
  },
  {
   "cell_type": "markdown",
   "metadata": {
    "colab_type": "text",
    "id": "V4RWWrZ7lWap"
   },
   "source": [
    "### <font color='blue'>3 Algorithm with Adam update of weights</font>"
   ]
  },
  {
   "cell_type": "code",
   "execution_count": 77,
   "metadata": {
    "colab": {},
    "colab_type": "code",
    "id": "72rRC8rJGhf5"
   },
   "outputs": [],
   "source": [
    "def fit_adam_update(x, y, w_, epochs, learning_rate):\n",
    "    b1, b2, e = 0.9, 0.999, 1e-08\n",
    "    m, v = 0, 0\n",
    "    mean_loss = []\n",
    "    for epoch in epochs:\n",
    "        loss = []\n",
    "        for xi, yi in zip(x, y):\n",
    "            df = forward_propagation(xi, yi, w_)\n",
    "            loss.append(df['loss'])\n",
    "            dw = backward_propagation(xi, w_, df)\n",
    "            \n",
    "            dw = list(dw.values())\n",
    "            epoch += 1\n",
    "            for i, wi in enumerate(dw[::-1]):\n",
    "                m = b1 * m + (1 - b1) * wi\n",
    "                v = b2 * v + (1 - b2) * (wi**2)\n",
    "    \n",
    "                m_hat = m / (1 - (b1**epoch))\n",
    "                v_hat = v / (1 - (b2**epoch))\n",
    "                \n",
    "                w_[i] += - (learning_rate * m_hat) / (math.sqrt(v_hat) + e)\n",
    "        mean_loss.append(np.mean(loss))\n",
    "    return mean_loss"
   ]
  },
  {
   "cell_type": "code",
   "execution_count": 78,
   "metadata": {},
   "outputs": [],
   "source": [
    "adam_loss = fit_adam_update(X, y, W.copy(), epochs, learning_rate)"
   ]
  },
  {
   "cell_type": "markdown",
   "metadata": {
    "colab_type": "text",
    "id": "MMy0nBw-lXml"
   },
   "source": [
    "<font color='blue'>Plot between epochs and loss</font>"
   ]
  },
  {
   "cell_type": "code",
   "execution_count": 79,
   "metadata": {
    "colab": {},
    "colab_type": "code",
    "id": "aiFRk_uFlm2V"
   },
   "outputs": [
    {
     "data": {
      "image/png": "[encoded data removed]",
      "text/plain": [
       "<Figure size 640x480 with 1 Axes>"
      ]
     },
     "metadata": {},
     "output_type": "display_data"
    }
   ],
   "source": [
    "# plotting the loss  \n",
    "plt.plot(epochs, adam_loss) \n",
    "plt.xlabel('Epoch') \n",
    "plt.ylabel('Loss') \n",
    "plt.title('Loss with Adam update')  \n",
    "plt.show() "
   ]
  },
  {
   "cell_type": "markdown",
   "metadata": {
    "colab_type": "text",
    "id": "7627cy8YlnYO"
   },
   "source": [
    "<font color='blue'>Comparison plot between epochs and loss with different optimizers</font>"
   ]
  },
  {
   "cell_type": "code",
   "execution_count": 83,
   "metadata": {
    "colab": {},
    "colab_type": "code",
    "id": "scleSfIXl_bC"
   },
   "outputs": [],
   "source": [
    "W = np.random.normal(0, 0.1, 9)\n",
    "epochs = list(range(100))\n",
    "learning_rate = 1e-5\n",
    "\n",
    "vanilla_loss = fit_vanilla_update(X, y, W.copy(), epochs, learning_rate)\n",
    "momentum_loss = fit_momentum_update(X, y, W.copy(), epochs, learning_rate)\n",
    "adam_loss = fit_adam_update(X, y, W.copy(), epochs, learning_rate)"
   ]
  },
  {
   "cell_type": "code",
   "execution_count": 84,
   "metadata": {
    "colab": {},
    "colab_type": "code",
    "id": "lfXSaOP8rjBY"
   },
   "outputs": [
    {
     "data": {
      "image/png": "[encoded data removed]",
      "text/plain": [
       "<Figure size 640x480 with 1 Axes>"
      ]
     },
     "metadata": {},
     "output_type": "display_data"
    }
   ],
   "source": [
    "# summarize history for loss\n",
    "plt.plot(vanilla_loss)\n",
    "plt.plot(momentum_loss)\n",
    "plt.plot(adam_loss)\n",
    "plt.title('Loss with different optimizers')\n",
    "plt.ylabel('loss')\n",
    "plt.xlabel('epoch')\n",
    "plt.legend(['Vanilla', 'Momentum', 'Adam'], loc='upper right')\n",
    "plt.show()"
   ]
  },
  {
   "cell_type": "markdown",
   "metadata": {},
   "source": [
    "### Observations\n",
    "1. Vanilla optimizer is relatively faster but it converges slower compared to Momentum and Adam\n",
    "2. Momentum optimizer is faster in terms of convergence compared to Vanilla and Adam optimizer.\n",
    "3. Adam has nice property of adaptively learning rates which results in faster convergence but as we have exp() function keeping high epochs leads to exploding gradient problem for Adam which can be prevent by keeping extra small learning rates"
   ]
  },
  {
   "cell_type": "code",
   "execution_count": null,
   "metadata": {},
   "outputs": [],
   "source": []
  }
 ],
 "metadata": {
  "colab": {
   "collapsed_sections": [],
   "name": "Backpropagation assignment.ipynb",
   "provenance": []
  },
  "kernelspec": {
   "display_name": "Python 3",
   "language": "python",
   "name": "python3"
  },
  "language_info": {
   "codemirror_mode": {
    "name": "ipython",
    "version": 3
   },
   "file_extension": ".py",
   "mimetype": "text/x-python",
   "name": "python",
   "nbconvert_exporter": "python",
   "pygments_lexer": "ipython3",
   "version": "3.9.1"
  }
 },
 "nbformat": 4,
 "nbformat_minor": 1
}
