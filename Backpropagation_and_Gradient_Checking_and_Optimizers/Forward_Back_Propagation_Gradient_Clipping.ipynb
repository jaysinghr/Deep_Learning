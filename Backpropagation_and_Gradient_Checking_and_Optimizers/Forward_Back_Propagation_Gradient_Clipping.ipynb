{
 "cells": [
  {
   "cell_type": "markdown",
   "metadata": {},
   "source": [
    "# <font color='red'>Implement Forward and Back Propagation</font>"
   ]
  },
  {
   "cell_type": "markdown",
   "metadata": {},
   "source": [
    "**There will be some functions that start with the word \"grader\" ex: grader_sigmoid(), grader_forwardprop(), grader_backprop() etc, these are the test functions.<br><br>Every Grader function has to return True.**"
   ]
  },
  {
   "cell_type": "markdown",
   "metadata": {},
   "source": [
    "## <font color='red'>Loading data </font>"
   ]
  },
  {
   "cell_type": "code",
   "execution_count": 1,
   "metadata": {},
   "outputs": [
    {
     "name": "stdout",
     "output_type": "stream",
     "text": [
      "(506, 6)\n",
      "(506, 5) (506,)\n"
     ]
    }
   ],
   "source": [
    "import pickle\n",
    "import numpy as np\n",
    "from tqdm import tqdm\n",
    "import math\n",
    "import matplotlib.pyplot as plt\n",
    "\n",
    "with open('data.pkl', 'rb') as f:\n",
    "    data = pickle.load(f)\n",
    "print(data.shape)\n",
    "\n",
    "X = data[:, :5]\n",
    "y = data[:, -1]\n",
    "print(X.shape, y.shape)"
   ]
  },
  {
   "cell_type": "markdown",
   "metadata": {},
   "source": [
    "# <font color='red'>Computational graph</font>"
   ]
  },
  {
   "cell_type": "markdown",
   "metadata": {},
   "source": [
    "<img src='https://i.imgur.com/seSGbNS.png'>"
   ]
  },
  {
   "cell_type": "markdown",
   "metadata": {},
   "source": [
    "*  **If you observe the graph, we are having input features [f1, f2, f3, f4, f5] and 9 weights [w1, w2, w3, w4, w5, w6,    w7, w8, w9]**.<br><br>\n",
    "*  **The final output of this graph is a value L which is computed as (Y-Y')^2** "
   ]
  },
  {
   "cell_type": "markdown",
   "metadata": {},
   "source": [
    "# <font color='red'>1: Implementing backpropagation and Gradient checking </font>"
   ]
  },
  {
   "cell_type": "markdown",
   "metadata": {},
   "source": [
    "<font color='blue'><b>REF: Check this video for better understanding of the computational graphs and back propagation</font>"
   ]
  },
  {
   "cell_type": "code",
   "execution_count": 2,
   "metadata": {},
   "outputs": [
    {
     "data": {
      "image/jpeg": "[encoded data removed]",
      "text/html": [
       "\n",
       "        <iframe\n",
       "            width=\"950\"\n",
       "            height=\"500\"\n",
       "            src=\"https://www.youtube.com/embed/i94OvYb6noo\"\n",
       "            frameborder=\"0\"\n",
       "            allowfullscreen\n",
       "            \n",
       "        ></iframe>\n",
       "        "
      ],
      "text/plain": [
       "<IPython.lib.display.YouTubeVideo at 0x20cbf0e95b0>"
      ]
     },
     "execution_count": 2,
     "metadata": {},
     "output_type": "execute_result"
    }
   ],
   "source": [
    "from IPython.display import YouTubeVideo\n",
    "YouTubeVideo('i94OvYb6noo',width=\"950\",height=\"500\")"
   ]
  },
  {
   "cell_type": "markdown",
   "metadata": {},
   "source": [
    "\n",
    "*  <b>Write two functions<br>\n",
    "    *  Forward propagation</b>(Write your code in<font color='blue'> def forward_propagation()</b></font>)<br><br>\n",
    "    For easy debugging, we will break the computational graph into 3 parts.\n",
    "\n",
    "    <font color='green'><b>Part 1</b></font></b>\n",
    "    <img src='https://i.imgur.com/0xUaxy6.png'><br><br>\n",
    "    <font color='green'><b>Part 2</b></font></b><br>\n",
    "    <img src='https://i.imgur.com/J29pAJL.png'><br><br>\n",
    "    <font color='green'><b>Part 3</b></font></b>\n",
    "    <img src='https://i.imgur.com/vMyCsd9.png'>"
   ]
  },
  {
   "cell_type": "markdown",
   "metadata": {},
   "source": [
    "<pre>\n",
    "  <font color='green'>\n",
    "  def forward_propagation(X, y, W):\n",
    "    <font color='grey'>\n",
    "    # X: input data point, 5-d data points\n",
    "    # y: output varible\n",
    "    # W: weight array, its of length 9, <br>          W[0] corresponds to w1 in graph, <br>          W[1] corresponds to w2 in graph, <br>          ..., <br>          W[8] corresponds to w9 in graph. \n",
    "\n",
    "    # we will return the following variables\n",
    "    # exp = part1 (compute the forward propagation until exp and then store the values in exp)\n",
    "    # tanh = part2(compute the forward propagation until tanh and then store the values in tanh)\n",
    "    # sig = part3(compute the forward propagation until sigmoid and then store the values in sig)\n",
    "    # now compute remaining values from computional graph and get y'\n",
    "    # compute the value of L=(y-y')^2\n",
    "    # compute derivative of L  w.r.to Y' and store it in dl\n",
    "    # Create a dictionary to store all the intermediate values\n",
    "    # store L, exp, tanh, sig, dl variables\n",
    "    </font>\n",
    "    return (dictionary, which we might need to use for back propagation)\n",
    "  </font>\n",
    "</pre>"
   ]
  },
  {
   "cell_type": "markdown",
   "metadata": {},
   "source": [
    "*  <b>Backward propagation</b>(code in<font color='blue'> def backward_propagation()</b></font>)\n",
    "    </b>\n",
    "    <pre>\n",
    "    <font color='green'>\n",
    "    def backward_propagation(L, W,dictionary):\n",
    "        <font color='grey'>\n",
    "        # L: the loss we calculated for the current point\n",
    "        # dictionary: the outputs of the forward_propagation() function\n",
    "        # compute the gradients of each weight [w1,w2,w3,...,w9]\n",
    "        # dict type to store the required variables \n",
    "        # return dW, dW is a dictionary with gradients of all the weights\n",
    "        </font>\n",
    "        return dW\n",
    "        </font>\n",
    "</font>\n",
    "</pre>"
   ]
  },
  {
   "cell_type": "markdown",
   "metadata": {},
   "source": [
    "## <font color='blue'>Forward propagation </font>"
   ]
  },
  {
   "cell_type": "code",
   "execution_count": 4,
   "metadata": {},
   "outputs": [],
   "source": [
    "def sigmoid(z):\n",
    "    '''In this function, we will compute the sigmoid(z)'''\n",
    "    # we can use this function in forward and backward propagation\n",
    "    return 1 / (1 + math.exp(-z))\n",
    "\n",
    "def tanh(z):\n",
    "    '''In this function, we will compute the tanh(z)'''\n",
    "    return (math.exp(z) - math.exp(-z)) / (math.exp(z) + math.exp(-z))\n",
    "    \n",
    "def forward_propagation(x, y, w):\n",
    "        '''In this function, we will compute the forward propagation '''\n",
    "        # X: input data point, 5-d data points\n",
    "        # y: output varible\n",
    "        # W: weight array, its of length 9, W[0] corresponds to w1 in graph, W[1] corresponds to w2 in graph,..., W[8] corresponds to w9 in graph.  \n",
    "        \n",
    "        # Return the following variables\n",
    "        # exp = part1 (compute the forward propagation until exp and then store the values in exp)\n",
    "        # tanh = part2 (compute the forward propagation until tanh and then store the values in tanh)\n",
    "        # sig = part3 (compute the forward propagation until sigmoid and then store the values in sig)\n",
    "        # now compute remaining values from computional graph and get y'\n",
    "        # compute the value of L=(y-y')^2\n",
    "        # compute derivative of L  w.r.to Y' and store it in dl\n",
    "        # Create a dictionary to store all the intermediate values\n",
    "        # store L, exp,tanh,sig variables\n",
    "        \n",
    "        #print(\"%\"*100, w)\n",
    "        # exp\n",
    "        \n",
    "        mul1 = np.dot(w[0], x[0])\n",
    "        mul2 = np.dot(w[1], x[1])\n",
    "        add1 = mul1 + mul2; add2 = mul1 + mul2\n",
    "        mul3 = np.dot(add1, add2)\n",
    "        add3 = mul3 + w[5]\n",
    "        exp_ = math.exp(add3)\n",
    "        \n",
    "        # tanh\n",
    "        tanh_ = tanh(exp_ + w[6])\n",
    "        \n",
    "        # sigmoid\n",
    "        sin_ = math.sin( np.dot(w[2], x[2]) )\n",
    "        add4 = np.dot(w[3], x[3]) + np.dot(w[4], x[4])\n",
    "        mul4 = np.dot(sin_, add4)\n",
    "        sig_ = sigmoid(mul4 + w[7])\n",
    "        \n",
    "        y_hat = tanh_ + np.dot(sig_, w[8])\n",
    "        l = (y-y_hat)**2\n",
    "    \n",
    "        dl = 2*(y-y_hat)*-1\n",
    "        \n",
    "        d = {\"dl\":dl, \"loss\":l, \"exp\":exp_, \"tanh\":tanh_, \"sigmoid\":sig_, \"sin\":sin_, \n",
    "             \"mul1\":mul1, \"mul2\":mul2, \"add1\":add1, \"add2\":add2, \"add4\":add4}\n",
    "        #print(\"%\"*100, d)\n",
    "        return d"
   ]
  },
  {
   "cell_type": "markdown",
   "metadata": {},
   "source": [
    "<font color='cyan'>Grader function - 1</font>"
   ]
  },
  {
   "cell_type": "code",
   "execution_count": 5,
   "metadata": {},
   "outputs": [
    {
     "data": {
      "text/plain": [
       "True"
      ]
     },
     "execution_count": 5,
     "metadata": {},
     "output_type": "execute_result"
    }
   ],
   "source": [
    "def grader_sigmoid(z):\n",
    "  val=sigmoid(z)\n",
    "  assert(val==0.8807970779778823)\n",
    "  return True\n",
    "grader_sigmoid(2)"
   ]
  },
  {
   "cell_type": "markdown",
   "metadata": {},
   "source": [
    "<font color='cyan'>Grader function - 2 </font>"
   ]
  },
  {
   "cell_type": "code",
   "execution_count": 6,
   "metadata": {},
   "outputs": [
    {
     "data": {
      "text/plain": [
       "True"
      ]
     },
     "execution_count": 6,
     "metadata": {},
     "output_type": "execute_result"
    }
   ],
   "source": [
    "def grader_forwardprop(data):\n",
    "    dl = (np.round(data['dl'],4)==-1.9285)\n",
    "    loss = (np.round(data['loss'],4)==0.9298)\n",
    "    part1 = (np.round(data['exp'],4)==1.1273)\n",
    "    part2 = (np.round(data['tanh'],4)==0.8418)\n",
    "    part3 = (np.round(data['sigmoid'],4)==0.5279)\n",
    "    assert(dl and loss and part1 and part2 and part3)\n",
    "    return True\n",
    "w = np.ones(9)*0.1\n",
    "d1 = forward_propagation(X[0],y[0],w)\n",
    "#print(d1)\n",
    "grader_forwardprop(d1)"
   ]
  },
  {
   "cell_type": "markdown",
   "metadata": {},
   "source": [
    "## <font color='blue'>Backward propagation</font>"
   ]
  },
  {
   "cell_type": "code",
   "execution_count": 7,
   "metadata": {},
   "outputs": [],
   "source": [
    "def backward_propagation(x,w,dic):\n",
    "    '''In this function, we will compute the backward propagation '''\n",
    "    # L: the loss we calculated for the current point\n",
    "    # dictionary: the outputs of the forward_propagation() function\n",
    "    \n",
    "    # compute the gradients of each weight [w1, w2, w3, ..., w9]\n",
    "    # use dict type to store the required variables \n",
    "    # dw1 = # in dw1 compute derivative of L w.r.to w1\n",
    "    # dw2 = # in dw2 compute derivative of L w.r.to w2\n",
    "    # dw3 = # in dw3 compute derivative of L w.r.to w3\n",
    "    # dw4 = # in dw4 compute derivative of L w.r.to w4\n",
    "    # dw5 = # in dw5 compute derivative of L w.r.to w5\n",
    "    # dw6 = # in dw6 compute derivative of L w.r.to w6\n",
    "    # dw7 = # in dw7 compute derivative of L w.r.to w7\n",
    "    # dw8 = # in dw8 compute derivative of L w.r.to w8\n",
    "    # dw9 = # in dw9 compute derivative of L w.r.to w9\n",
    "\n",
    "    # return dW, dW is a dictionary with gradients of all the weights\n",
    "    #print(\"^\"*100, w)\n",
    "    \n",
    "    dW = dict()\n",
    "    dW['dw9'] = np.dot(dic['dl'], dic['sigmoid'])\n",
    "    dW['dw8'] = np.dot(dic['sigmoid'], (1-dic['sigmoid'])) * np.dot(w[8], dic['dl'])\n",
    "    dW['dw7'] = (1 - (dic['tanh']**2)) * dic['dl']\n",
    "    dW['dw6'] = np.dot(dic['exp'], dW['dw7'])\n",
    "    dW['dw5'] = np.dot(dW['dw8'], dic['sin']) * x[4]\n",
    "    dW['dw4'] = np.dot(dW['dw8'], dic['sin']) * x[3]\n",
    "    dW['dw3'] = (math.cos(dic['sin']) * (dW['dw8'] * dic['add4'])) * x[2]\n",
    "    dW['dw2'] = ((dW['dw6'] * dic['add1']) * x[1]) + ((dW['dw6'] * dic['add2']) * x[1])\n",
    "    dW['dw1'] = ((dW['dw6'] * dic['add1']) * x[0]) + ((dW['dw6'] * dic['add2']) * x[0])\n",
    "    \n",
    "    #print(dW)\n",
    "    return dW    \n",
    "    "
   ]
  },
  {
   "cell_type": "markdown",
   "metadata": {},
   "source": [
    "<font color='cyan'>Grader function - 3 </font>"
   ]
  },
  {
   "cell_type": "code",
   "execution_count": 8,
   "metadata": {},
   "outputs": [
    {
     "data": {
      "text/plain": [
       "True"
      ]
     },
     "execution_count": 8,
     "metadata": {},
     "output_type": "execute_result"
    }
   ],
   "source": [
    "def grader_backprop(data):\n",
    "    dw1=(np.round(data['dw1'],4)==-0.2297)\n",
    "    dw2=(np.round(data['dw2'],4)==-0.0214)\n",
    "    dw3=(np.round(data['dw3'],4)==-0.0056)\n",
    "    dw4=(np.round(data['dw4'],4)==-0.0047)\n",
    "    dw5=(np.round(data['dw5'],4)==-0.001)\n",
    "    dw6=(np.round(data['dw6'],4)==-0.6335)\n",
    "    dw7=(np.round(data['dw7'],4)==-0.5619)\n",
    "    dw8=(np.round(data['dw8'],4)==-0.0481)\n",
    "    dw9=(np.round(data['dw9'],4)==-1.0181)\n",
    "    assert(dw1 and dw2 and dw3 and dw4 and dw5 and dw6 and dw7 and dw8 and dw9)\n",
    "    return True \n",
    "w=np.ones(9)*0.1\n",
    "d1=forward_propagation(X[0],y[0],w)\n",
    "#print(d1)\n",
    "d1=backward_propagation(X[0],w,d1)\n",
    "#print(d1)\n",
    "grader_backprop(d1)"
   ]
  },
  {
   "cell_type": "markdown",
   "metadata": {},
   "source": [
    " ## <font color='red'>Gradient clipping</font>"
   ]
  },
  {
   "cell_type": "markdown",
   "metadata": {},
   "source": [
    "<b> Check this  <a href='https://towardsdatascience.com/how-to-debug-a-neural-network-with-gradient-checking-41deec0357a9'>blog link</a> for more details on Gradient clipping"
   ]
  },
  {
   "cell_type": "markdown",
   "metadata": {},
   "source": [
    " we know that the derivative of any function is\n",
    " \n",
    " $$\\lim_{\\epsilon\\to0}\\frac{f(x+\\epsilon)-f(x-\\epsilon)}{2\\epsilon}$$\n"
   ]
  },
  {
   "cell_type": "markdown",
   "metadata": {},
   "source": [
    "*  The definition above can be used as a numerical approximation of the derivative. Taking an epsilon small enough, the calculated approximation will have an error in the range of epsilon squared. \n",
    "\n",
    "*  In other words, if epsilon is 0.001, the approximation will be off by 0.00001.\n",
    "\n",
    "Therefore, we can use this to approximate the gradient, and in turn make sure that backpropagation is implemented properly. This forms the basis of <b>gradient checking!</b>"
   ]
  },
  {
   "cell_type": "markdown",
   "metadata": {},
   "source": [
    "## <Font color='blue'>Gradient checking example</font>"
   ]
  },
  {
   "cell_type": "markdown",
   "metadata": {},
   "source": [
    "<font >\n",
    "lets understand the concept with a simple example:\n",
    "$f(w1,w2,x1,x2)=w_{1}^{2} . x_{1} + w_{2} . x_{2}$ \n",
    "\n",
    "from the above function , lets assume $w_{1}=1$, $w_{2}=2$, $x_{1}=3$, $x_{2}=4$ the gradient of $f$ w.r.t $w_{1}$ is\n",
    "\n",
    "\\begin{array} {lcl}\n",
    "\\frac{df}{dw_{1}} = dw_{1} &=&2.w_{1}.x_{1} \\\\& = &2.1.3\\\\& = &6\n",
    "\\end{array}\n",
    "\n",
    "\n",
    "let's calculate the aproximate gradient of $w_{1}$ as mentinoned in the above formula and considering $\\epsilon=0.0001$\n",
    "\n",
    "\\begin{array} {lcl}\n",
    "dw_1^{approx} & = & \\frac{f(w1+\\epsilon,w2,x1,x2)-f(w1-\\epsilon,w2,x1,x2)}{2\\epsilon} \\\\ & = & \\frac{((1+0.0001)^{2} . 3 + 2 . 4) - ((1-0.0001)^{2} . 3 + 2 . 4)}{2\\epsilon} \\\\ & = & \\frac{(1.00020001 . 3 + 2 . 4) - (0.99980001. 3 + 2 . 4)}{2*0.0001} \\\\ & = & \\frac{(11.00060003) - (10.99940003)}{0.0002}\\\\ & = & 5.99999999999\n",
    "\\end{array}\n",
    "\n",
    "Then, we apply the following formula for gradient check: <i>gradient_check</i> = \n",
    "$\\frac{\\left\\Vert\\left (dW-dW^{approx}\\rm\\right) \\right\\Vert_2}{\\left\\Vert\\left (dW\\rm\\right) \\right\\Vert_2+\\left\\Vert\\left (dW^{approx}\\rm\\right) \\right\\Vert_2}$\n",
    "\n",
    "The equation above is basically the Euclidean distance normalized by the sum of the norm of the vectors. We use normalization in case that one of the vectors is very small.\n",
    "As a value for epsilon, we usually opt for 1e-7. Therefore, if gradient check return a value less than 1e-7, then it means that backpropagation was implemented correctly. Otherwise, there is potentially a mistake in our implementation. If the value exceeds 1e-3, then we are sure that the code is not correct.\n",
    "\n",
    "in our example: <i>gradient_check</i> $ = \\frac{(6 - 5.999999999994898)}{(6 + 5.999999999994898)} = 4.2514140356330737e^{-13}$\n",
    "\n",
    "we can mathamatically derive the same thing like this\n",
    "\n",
    "\\begin{array} {lcl}\n",
    "dw_1^{approx} & = & \\frac{f(w1+\\epsilon,w2,x1,x2)-f(w1-\\epsilon,w2,x1,x2)}{2\\epsilon} \\\\ & = & \\frac{((w_{1}+\\epsilon)^{2} . x_{1} + w_{2} . x_{2}) - ((w_{1}-\\epsilon)^{2} . x_{1} + w_{2} . x_{2})}{2\\epsilon} \\\\ & = & \\frac{4. \\epsilon.w_{1}. x_{1}}{2\\epsilon} \\\\ & = &  2.w_{1}.x_{1}\n",
    "\\end{array}\n"
   ]
  },
  {
   "cell_type": "markdown",
   "metadata": {},
   "source": [
    "## <font color='red'> Implement Gradient checking </font> <br>\n",
    " (code in <font color='blue'> def gradient_checking()</font>)"
   ]
  },
  {
   "cell_type": "markdown",
   "metadata": {},
   "source": [
    "**Algorithm**"
   ]
  },
  {
   "cell_type": "markdown",
   "metadata": {},
   "source": [
    "<pre>\n",
    "<font color='green'>\n",
    "W = initilize_randomly\n",
    "def gradient_checking(data_point, W):<font color='grey'>\n",
    "    # compute the L value using forward_propagation()\n",
    "    # compute the gradients of W using backword_propagation()</font>\n",
    "    approx_gradients = []\n",
    "\n",
    "    for each wi weight value in W:<font color='grey'>\n",
    "        # add a small value to weight wi, and then find the values of L with the updated weights\n",
    "        # subtract a small value to weight wi, and then find the values of L with the updated weights\n",
    "        # compute the approximation gradients of weight wi</font>\n",
    "        approx_gradients.append(approximation gradients of weight wi)<font color='grey'>\n",
    "\n",
    "    # compare the gradient of weights W from backword_propagation() with the aproximation gradients of weights with <br>  gradient_check formula</font>\n",
    "    return gradient_check</font>\n",
    "\n",
    "<b>NOTE: we can do sanity check by checking all the return values of gradient_checking(),<br> they have to be zero. if not we have bug in our code\n",
    "</pre></b>"
   ]
  },
  {
   "cell_type": "markdown",
   "metadata": {},
   "source": [
    "## <font color='blue'> Implement gradient checking</font>"
   ]
  },
  {
   "cell_type": "code",
   "execution_count": 10,
   "metadata": {},
   "outputs": [],
   "source": [
    "# Ref: https://cs231n.github.io/neural-networks-3/\n",
    "def gradient_checking(x, y, w_, e):\n",
    "    d_ = forward_propagation(x, y, w_)\n",
    "    gr = backward_propagation(x, w_, d_)\n",
    "    gr = list(gr.values())\n",
    "    \n",
    "    approx_gradients = []\n",
    "    for wi in range(len(w_)):\n",
    "        wi_plus = np.copy(w_)\n",
    "        wi_plus[wi] = wi_plus[wi]+e\n",
    "        dwi_plus = forward_propagation(x, y, wi_plus)\n",
    "        \n",
    "        wi_minus = np.copy(w_)\n",
    "        wi_minus[wi] = wi_minus[wi]-e\n",
    "        dwi_minus = forward_propagation(x, y, wi_minus)\n",
    "        \n",
    "        approx_gr = (dwi_plus['loss'] - dwi_minus['loss']) / (2*e)\n",
    "        approx_gradients.append(approx_gr)\n",
    "        \n",
    "    '''\n",
    "    num = np.linalg.norm(np.array(gr) - np.array(approx_gradients))\n",
    "    den = max(np.linalg.norm(gr) , np.linalg.norm(approx_gradients))\n",
    "    diff = num / den\n",
    "    '''\n",
    "    diff_ = []\n",
    "    for g, a in zip(gr[::-1], approx_gradients):\n",
    "        diff = (g-a) / (g+a)\n",
    "        diff_.append(diff)\n",
    "        \n",
    "        if diff < e:\n",
    "            print(\"The gradient is correct\", g, a, diff)\n",
    "        else:\n",
    "            print(\"The gradient is wrong\", g, a, diff)\n",
    "    \n",
    "    return diff_\n",
    "    "
   ]
  },
  {
   "cell_type": "code",
   "execution_count": 11,
   "metadata": {},
   "outputs": [],
   "source": [
    "W = np.random.normal(0, 0.1, 9)\n",
    "e = 0.0001"
   ]
  },
  {
   "cell_type": "code",
   "execution_count": 12,
   "metadata": {},
   "outputs": [
    {
     "name": "stdout",
     "output_type": "stream",
     "text": [
      "The gradient is correct 0.17294673635552799 0.17294673418599693 6.2722521226288806e-09\n",
      "The gradient is correct 0.016115983822719955 0.01611598382189605 2.5561686290841648e-11\n",
      "The gradient is correct 0.009758163765861683 0.009758137990978355 1.3206848125991673e-06\n",
      "The gradient is correct -0.0021562610407846253 -0.002156261038610552 5.041303861788948e-10\n",
      "The gradient is correct -0.00046649655226664355 -0.00046649655360830877 -1.4380226547039143e-09\n",
      "The gradient is correct -1.0965466022917905 -1.096546599130832 1.44132423641611e-09\n",
      "The gradient is correct -1.1591608760219467 -1.1591608814687238 -2.3494482643776186e-09\n",
      "The gradient is correct -0.05132840745289063 -0.05132840740773581 4.3986185862586795e-10\n",
      "The gradient is correct -1.1125189478801314 -1.1125189478811137 -4.4148701200087144e-13\n"
     ]
    },
    {
     "data": {
      "text/plain": [
       "[6.2722521226288806e-09,\n",
       " 2.5561686290841648e-11,\n",
       " 1.3206848125991673e-06,\n",
       " 5.041303861788948e-10,\n",
       " -1.4380226547039143e-09,\n",
       " 1.44132423641611e-09,\n",
       " -2.3494482643776186e-09,\n",
       " 4.3986185862586795e-10,\n",
       " -4.4148701200087144e-13]"
      ]
     },
     "execution_count": 12,
     "metadata": {},
     "output_type": "execute_result"
    }
   ],
   "source": [
    "gradient_checking(X[0], y[0], W, e)"
   ]
  },
  {
   "cell_type": "markdown",
   "metadata": {},
   "source": []
  }
 ],
 "metadata": {
  "kernelspec": {
   "display_name": "venv",
   "language": "python",
   "name": "python3"
  },
  "language_info": {
   "codemirror_mode": {
    "name": "ipython",
    "version": 3
   },
   "file_extension": ".py",
   "mimetype": "text/x-python",
   "name": "python",
   "nbconvert_exporter": "python",
   "pygments_lexer": "ipython3",
   "version": "3.9.1"
  },
  "orig_nbformat": 4
 },
 "nbformat": 4,
 "nbformat_minor": 2
}
